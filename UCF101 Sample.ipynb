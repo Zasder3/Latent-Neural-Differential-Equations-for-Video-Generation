{
 "metadata": {
  "language_info": {
   "codemirror_mode": {
    "name": "ipython",
    "version": 3
   },
   "file_extension": ".py",
   "mimetype": "text/x-python",
   "name": "python",
   "nbconvert_exporter": "python",
   "pygments_lexer": "ipython3",
   "version": "3.7.6-final"
  },
  "orig_nbformat": 2,
  "kernelspec": {
   "name": "python3",
   "display_name": "Python 3",
   "language": "python"
  }
 },
 "nbformat": 4,
 "nbformat_minor": 2,
 "cells": [
  {
   "cell_type": "code",
   "execution_count": 1,
   "metadata": {},
   "outputs": [],
   "source": [
    "import torch\n",
    "import numpy as np\n",
    "import matplotlib.pyplot as plt\n",
    "from skvideo import io\n",
    "from ucf101.UCF101DatasetTGAN import UCF101"
   ]
  },
  {
   "cell_type": "code",
   "execution_count": 2,
   "metadata": {},
   "outputs": [],
   "source": [
    "conf = \"C:/Video Datasets/UCF101_tgan/ucf101_train_pd.pkl\"\n",
    "dset = \"C:/Video Datasets/ucf101_64px_tgan/train.h5\"\n",
    "test = UCF101(dset, conf)\n",
    "batch_size = 64\n",
    "loader = torch.utils.data.DataLoader(test, batch_size=batch_size,\n",
    "                                         shuffle=True,\n",
    "                                         drop_last=True)\n",
    "\n",
    "def dataGen():\n",
    "    while True:\n",
    "        for d in loader:\n",
    "            yield d"
   ]
  },
  {
   "cell_type": "code",
   "execution_count": 3,
   "metadata": {},
   "outputs": [
    {
     "output_type": "execute_result",
     "data": {
      "text/plain": [
       "torch.Size([64, 16, 3, 64, 64])"
      ]
     },
     "metadata": {},
     "execution_count": 3
    }
   ],
   "source": [
    "dg = dataGen()\n",
    "next(dg).shape"
   ]
  },
  {
   "cell_type": "code",
   "execution_count": 4,
   "metadata": {},
   "outputs": [],
   "source": [
    "def genSamples(x, n=8):\n",
    "    if x.shape[2] == 3:\n",
    "        x = x.transpose(1,2)\n",
    "    out = np.zeros((3, 16, 64*n, 64*n))\n",
    "\n",
    "    for j in range(n):\n",
    "        for k in range(n):\n",
    "            out[:, :, 64*j:64*(j+1), 64*k:64*(k+1)] = x[j*n + k, :, :, :, :]\n",
    "\n",
    "    out = out.transpose((1, 2, 3, 0))\n",
    "    out = (out + 1) / 2 * 255\n",
    "    io.vwrite(\n",
    "        'ucf101_grid.gif',\n",
    "        out\n",
    "    )"
   ]
  },
  {
   "cell_type": "code",
   "execution_count": 5,
   "metadata": {},
   "outputs": [],
   "source": [
    "genSamples(next(dg))"
   ]
  },
  {
   "cell_type": "code",
   "execution_count": null,
   "metadata": {},
   "outputs": [],
   "source": []
  }
 ]
}