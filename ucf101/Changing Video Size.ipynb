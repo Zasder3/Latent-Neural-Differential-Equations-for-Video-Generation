{
 "cells": [
  {
   "cell_type": "code",
   "execution_count": 1,
   "metadata": {},
   "outputs": [],
   "source": [
    "import os\n",
    "from tqdm import tqdm"
   ]
  },
  {
   "cell_type": "code",
   "execution_count": 2,
   "metadata": {},
   "outputs": [
    {
     "name": "stderr",
     "output_type": "stream",
     "text": [
      "100%|█████████████████████████████████████████████████████████████████████████████████████████████████████████████████| 13320/13320 [38:32<00:00,  6.25it/s]\n"
     ]
    }
   ],
   "source": [
    "for f in tqdm(os.listdir('D:/Video Datasets/UCF101/')):\n",
    "    os.system('ffmpeg -y -i \\\"D:/Video Datasets/UCF101/{}\\\" -an -vf \\\"scale=86:64, crop=64:64:11:0\\\" \\\"D:/Video Datasets/UCF101_64px/{}\\\"'.format(f, f))"
   ]
  },
  {
   "cell_type": "code",
   "execution_count": null,
   "metadata": {},
   "outputs": [],
   "source": []
  }
 ],
 "metadata": {
  "kernelspec": {
   "display_name": "Python 3",
   "language": "python",
   "name": "python3"
  },
  "language_info": {
   "codemirror_mode": {
    "name": "ipython",
    "version": 3
   },
   "file_extension": ".py",
   "mimetype": "text/x-python",
   "name": "python",
   "nbconvert_exporter": "python",
   "pygments_lexer": "ipython3",
   "version": "3.6.4"
  }
 },
 "nbformat": 4,
 "nbformat_minor": 4
}
